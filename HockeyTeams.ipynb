{
 "cells": [
  {
   "cell_type": "markdown",
   "metadata": {},
   "source": [
    "# Summer Hockey\n",
    "\n",
    "My sister-in-law asked me to help her set up a summer hockey league\n",
    "that has twenty players who will play for thirteen weeks.  Every week\n",
    "the twenty players will be divided into two teams of ten. Since the\n",
    "players all play for the same club in the winter and they all have\n",
    "\\\"home\\\" and \\\"away\\\" jerseys, we'll assign the players to \\\"home\\\"\n",
    "and \\\"away\\\" teams. Players can be assigned to teams without regard to\n",
    "position. The goal is to make the assignments to minimize the number\n",
    "of weeks that any pair of players is assigned to the same (or\n",
    "opposing) teams.\n",
    "\n",
    "My first thought was to assign players systematically. Given that $2^4\n",
    "< 20 < 2^5$ we know that we need to have a least five games before we\n",
    "can guarantee that no pair of players is on the same team every\n",
    "week. However, in any five-week period, there will be at two (or more)\n",
    "pairs of players who play together (or opposite) for four weeks.,\n",
    "\n",
    "I abandoned a systematic approach in favor of random assignment.\n",
    "\n",
    "If you generate two schedules randomly, you need a way to compare\n",
    "them; that is a metric. The value of the metric tells you whether and\n",
    "which one is better (in our case a lower value will be better). You\n",
    "can save the better one as your \\\"best candidate,\\\" generate a new\n",
    "schedule, and compare it to the current \\\"best candidate\\\". If the new\n",
    "one is better, promote it to \\\"best candidate,\\\" otherwise repeat the\n",
    "procedure.  Execute this process in a loop for a predetermined number\n",
    "of times.\n",
    "    \n",
    "When I say \\\"generate a new schedule\\\", there are at least two ways to\n",
    "do it. You could generate an entirely new schedule with each pass\n",
    "through the loop, or you could generate a new schedule based on a\n",
    "previous one. For example, replace one week in the best candidate\n",
    "schedule with the new week and see if that is an improvement. The new\n",
    "week in the schedule could be randomly generated or there may be a way\n",
    "to \\\"tweak\\\" the schedule to improve it.  Generating a completely new\n",
    "schedule is simpler to code, but the improving an existing schedule\n",
    "might be faster. However, tweaking an existing schedule carries the\n",
    "risk of leading to a local minimum.\n"
   ]
  },
  {
   "cell_type": "code",
   "execution_count": 1,
   "metadata": {},
   "outputs": [],
   "source": [
    "import numpy as np\n",
    "import pandas as pd\n",
    "import matplotlib.pyplot as plt\n",
    "from numpy.linalg import norm"
   ]
  },
  {
   "cell_type": "markdown",
   "metadata": {},
   "source": [
    "We need some preliminary ideas about what team assignments look like.  Let's assign players to teams using 1 for \"home\" and -1 for \"away.\"  With twenty players and thirteen weeks, we will need a 13x20 array to represent a full season schedule where each row consists of ten 1's and ten -1's. If we start with one such row, we can generate another simply by \"shuffling\" the numbers."
   ]
  },
  {
   "cell_type": "code",
   "execution_count": 2,
   "metadata": {},
   "outputs": [
    {
     "name": "stdout",
     "output_type": "stream",
     "text": [
      "[-1  1 -1  1 -1  1 -1  1 -1  1 -1  1 -1  1 -1  1 -1  1 -1  1]\n",
      "[ 1  1 -1 -1 -1 -1 -1  1 -1  1 -1  1  1  1  1 -1  1 -1 -1  1]\n"
     ]
    }
   ],
   "source": [
    "from numpy.random import shuffle\n",
    "\n",
    "# Here is one weekly assignment. \n",
    "assignment = 2*(np.arange(20) % 2) - 1\n",
    "print(assignment)\n",
    "# Here we shuffle the assignment. Note how the vector is changed. \n",
    "shuffle(assignment)\n",
    "print(assignment)"
   ]
  },
  {
   "cell_type": "markdown",
   "metadata": {},
   "source": [
    "We generate a season by initializing a matrix with zeros. The first weekly assignment will just be the alternating 1s and -1s, and we shuffle this 20-element array 12 times."
   ]
  },
  {
   "cell_type": "code",
   "execution_count": 3,
   "metadata": {},
   "outputs": [
    {
     "name": "stdout",
     "output_type": "stream",
     "text": [
      "[[-1  1 -1  1 -1  1 -1  1 -1  1 -1  1 -1  1 -1  1 -1  1 -1  1]\n",
      " [ 1  1  1 -1 -1 -1 -1 -1 -1 -1  1  1  1  1 -1  1  1 -1 -1  1]\n",
      " [-1  1 -1  1 -1 -1 -1  1  1  1  1 -1  1 -1 -1  1  1 -1  1 -1]\n",
      " [-1 -1  1  1 -1 -1  1 -1  1  1  1  1  1 -1 -1  1 -1  1 -1 -1]\n",
      " [-1 -1  1 -1  1 -1 -1  1 -1  1  1 -1  1 -1 -1  1  1 -1  1  1]\n",
      " [ 1 -1  1 -1 -1 -1 -1 -1  1  1 -1 -1 -1  1  1 -1  1  1  1  1]\n",
      " [-1  1 -1 -1  1 -1 -1 -1 -1  1 -1  1  1 -1  1  1  1 -1  1  1]\n",
      " [ 1 -1  1  1 -1  1 -1  1 -1 -1  1  1  1 -1 -1  1 -1 -1 -1  1]\n",
      " [-1  1  1  1 -1 -1  1  1 -1  1 -1 -1  1  1 -1 -1 -1  1  1 -1]\n",
      " [-1  1  1 -1  1  1  1 -1 -1  1  1 -1 -1 -1 -1  1  1 -1 -1  1]\n",
      " [-1  1 -1  1  1  1  1  1  1 -1  1 -1 -1  1 -1  1 -1 -1 -1 -1]\n",
      " [-1 -1  1 -1  1 -1 -1 -1 -1 -1  1  1  1  1 -1  1  1 -1  1  1]\n",
      " [ 1 -1  1  1 -1  1  1  1 -1 -1 -1 -1  1 -1 -1 -1 -1  1  1  1]]\n"
     ]
    }
   ],
   "source": [
    "league = np.zeros((13,20),int)\n",
    "assignment = 2*(np.arange(20) % 2) - 1\n",
    "for i in range(13):\n",
    "    league[i] = assignment\n",
    "    shuffle(assignment)\n",
    "print(league)"
   ]
  },
  {
   "cell_type": "markdown",
   "metadata": {},
   "source": [
    "The j-th column `league[:,j]` represents the assignments for player `j`."
   ]
  },
  {
   "cell_type": "code",
   "execution_count": 4,
   "metadata": {},
   "outputs": [
    {
     "name": "stdout",
     "output_type": "stream",
     "text": [
      "Player 11 has assignments [ 1  1 -1  1 -1 -1  1  1 -1 -1 -1  1 -1]\n"
     ]
    }
   ],
   "source": [
    "j = np.random.randint(20)\n",
    "print(f'Player {j} has assignments {league[:,j]}')"
   ]
  },
  {
   "cell_type": "markdown",
   "metadata": {},
   "source": [
    "Notice that if you take the inner product (or dot product) between two columns you get a number between -13 an +13 which is the difference between the number of weeks that two players play together and number that they are opposed. For example, if player `i` and `j` play together 8 times and opposed 5 times, then `league[:,i].transpose() @ league[:,j]` will be 3; i.e. 8-5."
   ]
  },
  {
   "cell_type": "code",
   "execution_count": 5,
   "metadata": {},
   "outputs": [
    {
     "name": "stdout",
     "output_type": "stream",
     "text": [
      "Player 3 has assignments [ 1 -1  1  1 -1 -1 -1  1  1 -1  1 -1  1]\n",
      "Player 11 has assignments [ 1  1 -1  1 -1 -1  1  1 -1 -1 -1  1 -1]\n",
      "Same - Opposing = -1\n"
     ]
    }
   ],
   "source": [
    "i = np.random.randint(20)\n",
    "print(f'Player {i} has assignments {league[:,i]}')\n",
    "\n",
    "j = i\n",
    "while i==j:\n",
    "    j = np.random.randint(20)\n",
    "print(f'Player {j} has assignments {league[:,j]}')\n",
    "\n",
    "print(f'Same - Opposing = {league[:,i].transpose() @ league[:,j]}')"
   ]
  },
  {
   "cell_type": "markdown",
   "metadata": {},
   "source": [
    "This means that if we take the matrix product `league.transpose() @ league`, the `ij` entry will be `league[:,i].transpose() @ league[:,j]` which encodes the same-minus-opposing count for players `i` and `j`.  Note that the product matrix `league.transpose() @ league` is a 13x13 square matrix whose diagonal elements are all 13 with all off-diagonal entries between -13 and 13. Because there are an odd number of games, all off-diagonal elements are odd numbers.  "
   ]
  },
  {
   "cell_type": "code",
   "execution_count": 6,
   "metadata": {},
   "outputs": [
    {
     "name": "stdout",
     "output_type": "stream",
     "text": [
      "[[ 13  -5   3  -1  -5   3  -1  -1   1  -7  -3   1  -1   1   5  -7  -1   3\n",
      "   -1   3]\n",
      " [ -5  13  -7   1   1   1   1   1  -1   3  -1  -1  -3   3  -1   3   1  -3\n",
      "   -3  -3]\n",
      " [  3  -7  13  -3  -3  -3   1  -3  -5  -1   3  -1   5  -1  -5  -1   1   1\n",
      "    1   5]\n",
      " [ -1   1  -3  13  -7   5   5   9   3  -1  -1  -1   1  -1  -5  -1 -11   5\n",
      "   -3  -7]\n",
      " [ -5   1  -3  -7  13   1   1  -3  -1  -1   3  -1  -3  -1   3   3   5  -7\n",
      "    1   1]\n",
      " [  3   1  -3   5   1  13   5   5  -1  -5  -1  -1  -7  -1  -1  -1  -7   1\n",
      "   -7   1]\n",
      " [ -1   1   1   5   1   5  13   1   3  -1  -1  -5  -3  -1  -1  -5  -7   5\n",
      "   -3  -7]\n",
      " [ -1   1  -3   9  -3   5   1  13  -1  -1  -1  -5   1  -1  -5  -1  -7   1\n",
      "    1  -3]\n",
      " [  1  -1  -5   3  -1  -1   3  -1  13   1   1  -3  -5   1   5  -3  -1   3\n",
      "   -1  -9]\n",
      " [ -7   3  -1  -1  -1  -5  -1  -1   1  13  -3  -3  -1  -3   1   1   3   3\n",
      "    3  -1]\n",
      " [ -3  -1   3  -1   3  -1  -1  -1   1  -3  13   1   3  -3  -7   9   3  -9\n",
      "   -5  -1]\n",
      " [  1  -1  -1  -1  -1  -1  -5  -5  -3  -3   1  13   3   1   1   5  -1  -1\n",
      "   -5   3]\n",
      " [ -1  -3   5   1  -3  -7  -3   1  -5  -1   3   3  13  -5  -5   3   1  -3\n",
      "    5   1]\n",
      " [  1   3  -1  -1  -1  -1  -1  -1   1  -3  -3   1  -5  13   1  -3  -1   3\n",
      "   -1  -1]\n",
      " [  5  -1  -5  -5   3  -1  -1  -5   5   1  -7   1  -5   1  13  -7   3   3\n",
      "    3  -1]\n",
      " [ -7   3  -1  -1   3  -1  -5  -1  -3   1   9   5   3  -3  -7  13   3  -9\n",
      "   -5   3]\n",
      " [ -1   1   1 -11   5  -7  -7  -7  -1   3   3  -1   1  -1   3   3  13  -7\n",
      "    5   5]\n",
      " [  3  -3   1   5  -7   1   5   1   3   3  -9  -1  -3   3   3  -9  -7  13\n",
      "    1  -3]\n",
      " [ -1  -3   1  -3   1  -7  -3   1  -1   3  -5  -5   5  -1   3  -5   5   1\n",
      "   13   1]\n",
      " [  3  -3   5  -7   1   1  -7  -3  -9  -1  -1   3   1  -1  -1   3   5  -3\n",
      "    1  13]]\n"
     ]
    }
   ],
   "source": [
    "print(league.transpose() @ league)"
   ]
  },
  {
   "cell_type": "markdown",
   "metadata": {},
   "source": [
    "However, if `league` represents a good season schedule, the off-diagonal elements will be close to zero (a perfect schedule would have all +/-1).  There are two natural ways to measure \"goodness.\" Let `my_diag` be a 13x13 diagonal matrix with all 13s on the diagonal."
   ]
  },
  {
   "cell_type": "code",
   "execution_count": 7,
   "metadata": {},
   "outputs": [
    {
     "name": "stdout",
     "output_type": "stream",
     "text": [
      "[[13  0  0  0  0  0  0  0  0  0  0  0  0  0  0  0  0  0  0  0]\n",
      " [ 0 13  0  0  0  0  0  0  0  0  0  0  0  0  0  0  0  0  0  0]\n",
      " [ 0  0 13  0  0  0  0  0  0  0  0  0  0  0  0  0  0  0  0  0]\n",
      " [ 0  0  0 13  0  0  0  0  0  0  0  0  0  0  0  0  0  0  0  0]\n",
      " [ 0  0  0  0 13  0  0  0  0  0  0  0  0  0  0  0  0  0  0  0]\n",
      " [ 0  0  0  0  0 13  0  0  0  0  0  0  0  0  0  0  0  0  0  0]\n",
      " [ 0  0  0  0  0  0 13  0  0  0  0  0  0  0  0  0  0  0  0  0]\n",
      " [ 0  0  0  0  0  0  0 13  0  0  0  0  0  0  0  0  0  0  0  0]\n",
      " [ 0  0  0  0  0  0  0  0 13  0  0  0  0  0  0  0  0  0  0  0]\n",
      " [ 0  0  0  0  0  0  0  0  0 13  0  0  0  0  0  0  0  0  0  0]\n",
      " [ 0  0  0  0  0  0  0  0  0  0 13  0  0  0  0  0  0  0  0  0]\n",
      " [ 0  0  0  0  0  0  0  0  0  0  0 13  0  0  0  0  0  0  0  0]\n",
      " [ 0  0  0  0  0  0  0  0  0  0  0  0 13  0  0  0  0  0  0  0]\n",
      " [ 0  0  0  0  0  0  0  0  0  0  0  0  0 13  0  0  0  0  0  0]\n",
      " [ 0  0  0  0  0  0  0  0  0  0  0  0  0  0 13  0  0  0  0  0]\n",
      " [ 0  0  0  0  0  0  0  0  0  0  0  0  0  0  0 13  0  0  0  0]\n",
      " [ 0  0  0  0  0  0  0  0  0  0  0  0  0  0  0  0 13  0  0  0]\n",
      " [ 0  0  0  0  0  0  0  0  0  0  0  0  0  0  0  0  0 13  0  0]\n",
      " [ 0  0  0  0  0  0  0  0  0  0  0  0  0  0  0  0  0  0 13  0]\n",
      " [ 0  0  0  0  0  0  0  0  0  0  0  0  0  0  0  0  0  0  0 13]]\n"
     ]
    }
   ],
   "source": [
    "my_diag = np.zeros((20,20),int)\n",
    "np.fill_diagonal(my_diag,13)\n",
    "print(my_diag)"
   ]
  },
  {
   "cell_type": "markdown",
   "metadata": {},
   "source": [
    "We can measure if `league.transpose @ league` is close to `my_diag` using the Frobenius norm, also called the $L^2$ norm, which is just the sum of squares. Here is the Frobenius norm of a matrix $A$:\n",
    "$$\n",
    "\\|A\\|_F = \\left(\\sum a_{ij}^2\\right)^{1/2}\n",
    "$$\n",
    "See the [Numpy documentation](https://numpy.org/doc/stable/reference/generated/numpy.linalg.norm.html)."
   ]
  },
  {
   "cell_type": "code",
   "execution_count": 8,
   "metadata": {},
   "outputs": [
    {
     "data": {
      "text/plain": [
       "71.97221686178632"
      ]
     },
     "execution_count": 8,
     "metadata": {},
     "output_type": "execute_result"
    }
   ],
   "source": [
    "# Frobenius norm is the default of the np.linalg.norm, but we make it explicit here:\n",
    "def frob_norm(matrix):\n",
    "    return norm(matrix,ord='fro')\n",
    "frob_norm(league.transpose()@league - my_diag)"
   ]
  },
  {
   "cell_type": "markdown",
   "metadata": {},
   "source": [
    "The other is to take the maximum of the absolute value of all elements in the difference of the two matrices; i.e. `np.max(np.abs(league.transpose @ league - my_diag))`. Taking the `max` of the `abs` of the entries is the same as the $L^\\infty$ norm for a vector which is *not* the same as a $L^\\infty$ norm of a matrix. We can use the `norm` function again, but we have to `flatten` the matrix to one dimension.  See the [Numpy documentation](https://numpy.org/doc/stable/reference/generated/numpy.linalg.norm.html)."
   ]
  },
  {
   "cell_type": "code",
   "execution_count": 9,
   "metadata": {},
   "outputs": [
    {
     "data": {
      "text/plain": [
       "11.0"
      ]
     },
     "execution_count": 9,
     "metadata": {},
     "output_type": "execute_result"
    }
   ],
   "source": [
    "def inf_norm(matrix):\n",
    "    return norm(matrix.flatten(),ord=np.inf)\n",
    "inf_norm((league.transpose()@league - my_diag))"
   ]
  },
  {
   "cell_type": "markdown",
   "metadata": {},
   "source": [
    "Note that when the `inf_norm((league.transpose()@league - my_diag))` is k, then there is some pair of players who are assigned to the same (or opposing) team (k+13)/2 times; e.g. when k=9, then (9+13)/2 = 11. \n",
    "\n",
    "We seek a matrix `league` such that `inf_norm(league.transpose() @ league - my_diag)` and `frob_norm(league.transpose() @ league - my_diag)` are both *minimized.*   Since `inf_norm` is integer valued. One can imagine that there would be two matrices representing a full season `league1` and `league2` where the `inf_norm`s are equal, but the `frob_norm`s are *not.* So we consider `league2` superior to `league1` if the `inf_norm` is smaller OR if the `inf_norm` is no larger and the `forb_norm` is smaller."
   ]
  },
  {
   "cell_type": "code",
   "execution_count": 10,
   "metadata": {},
   "outputs": [
    {
     "name": "stdout",
     "output_type": "stream",
     "text": [
      "Trial     0: frob_norm_min=74.162, inf_norm_min=9.0\n",
      "Trial     1: frob_norm_min=67.853, inf_norm_min=9.0\n",
      "Trial     3: frob_norm_min=67.142, inf_norm_min=9.0\n",
      "Trial    21: frob_norm_min=66.903, inf_norm_min=9.0\n",
      "Trial    55: frob_norm_min=65.696, inf_norm_min=9.0\n",
      "Trial    79: frob_norm_min=64.218, inf_norm_min=9.0\n",
      "Trial   375: frob_norm_min=72.636, inf_norm_min=7.0\n",
      "Trial   436: frob_norm_min=65.939, inf_norm_min=7.0\n",
      "Trial   543: frob_norm_min=65.207, inf_norm_min=7.0\n",
      "Trial   578: frob_norm_min=63.214, inf_norm_min=7.0\n",
      "Trial   725: frob_norm_min=62.450, inf_norm_min=7.0\n",
      "Trial  1139: frob_norm_min=61.935, inf_norm_min=7.0\n",
      "Trial 11184: frob_norm_min=61.677, inf_norm_min=7.0\n",
      "Trial 11306: frob_norm_min=61.156, inf_norm_min=7.0\n",
      "Trial 38003: frob_norm_min=60.100, inf_norm_min=7.0\n",
      "Trial 80191: frob_norm_min=57.931, inf_norm_min=7.0\n"
     ]
    }
   ],
   "source": [
    "frob_norm_min = 13*20\n",
    "inf_norm_min = 13\n",
    "\n",
    "max_iter = 100000\n",
    "max_width = int(np.ceil(np.log10(max_iter)))\n",
    "            \n",
    "for trial in range(max_iter):\n",
    "    assignment = 2*(np.arange(20) % 2) - 1\n",
    "    league = np.zeros((13,20),int)\n",
    "    for i in range(13):\n",
    "        # make sure that the new assignment is different from any previous.\n",
    "        while np.max(league @ assignment.transpose()) == 20:\n",
    "            shuffle(assignment)\n",
    "        league[i] = assignment\n",
    "        shuffle(assignment)\n",
    "\n",
    "    frob_norm_ = frob_norm(league.transpose() @ league - my_diag)\n",
    "    inf_norm_ = inf_norm(league.transpose() @ league - my_diag)\n",
    "    if ((inf_norm_ < inf_norm_min) or \n",
    "        ((inf_norm_ <= inf_norm_min) and (frob_norm_ < frob_norm_min))):\n",
    "        inf_norm_min = inf_norm_\n",
    "        frob_norm_min = frob_norm_\n",
    "        best_league = league.copy()\n",
    "        print(f'Trial {trial:{max_width}d}: frob_norm_min={frob_norm_min:.3f}, inf_norm_min={inf_norm_min}')\n"
   ]
  },
  {
   "cell_type": "markdown",
   "metadata": {},
   "source": [
    "One question remains: Through how many iterations should we run? There are a lot of weekly assignments; specifically, `scipy.special.binom(20,10)/2` is over 90,000. The number of possible 13-week season schedules over 5e+54.  Although above, I have only run for 100 iterations, I ran 5 million iterations.  The `inf_norm` was sometimes achieved early but was never lower than 7. And the minimum Forbenius norm was updated as deep into the loop as 2.5 million iterations."
   ]
  },
  {
   "cell_type": "code",
   "execution_count": 11,
   "metadata": {},
   "outputs": [
    {
     "name": "stdout",
     "output_type": "stream",
     "text": [
      "92378.0\n",
      "5.7245873760035234e+54\n"
     ]
    }
   ],
   "source": [
    "from scipy.special import binom\n",
    "print(binom(20,10)/2)\n",
    "print(binom(binom(20,10)/2,13))"
   ]
  },
  {
   "cell_type": "markdown",
   "metadata": {},
   "source": [
    "Finally, we also want the 'Home' and 'Away' assignments to be relatively uniform too. The quantity `np.sum((best_league + 1)//2,axis=0)` yields a 20 element vector with the j-th element representing the number of times player j is on the 'Home' team. We would like this vector to be close to 6.5 in each entry. One way to ensure this is to minimize standard deviation of the elements. If we can take a single week -- a row of the matrix `league` -- switching the 'Home' and 'Away' assignments only requires us to multiply by -1. If this decreases the standard deviation of the home assignments, then that would be a better league."
   ]
  },
  {
   "cell_type": "code",
   "execution_count": 12,
   "metadata": {},
   "outputs": [
    {
     "name": "stdout",
     "output_type": "stream",
     "text": [
      "Home team std: 1.7464\n",
      "Run 0, Trial 0: 1.5652\n",
      "Run 0, Trial 1: 1.5000\n",
      "Run 0, Trial 3: 1.4318\n",
      "[9 7 8 8 7 5 6 5 8 5 8 5 4 5 8 7 4 6 7 8]\n",
      "1.4317821063276353\n"
     ]
    }
   ],
   "source": [
    "home_team = np.sum((best_league + 1)//2,axis=0)\n",
    "home_team_std_min = np.std(home_team)\n",
    "print(f'Home team std: {home_team_std_min:.4f}')\n",
    "\n",
    "\n",
    "# I have seen better Home assignments after two loops, not more.\n",
    "for i in range(3):\n",
    "    for k in range(13):\n",
    "        league = best_league.copy()\n",
    "        league[k,:] = -league[k,:]\n",
    "        home_team = np.sum((league + 1)//2,axis=0)\n",
    "        home_team_std = np.std(home_team)\n",
    "        if home_team_std < home_team_std_min:\n",
    "            best_league = league\n",
    "            home_team_std_min = home_team_std\n",
    "            print(f'Run {i}, Trial {k}: {home_team_std_min:.4f}')\n",
    "\n",
    "print(home_team)\n",
    "print(home_team_std_min)"
   ]
  },
  {
   "cell_type": "markdown",
   "metadata": {},
   "source": [
    "What is the range of same-team assignments?"
   ]
  },
  {
   "cell_type": "code",
   "execution_count": 13,
   "metadata": {},
   "outputs": [
    {
     "data": {
      "text/plain": [
       "(3, 10)"
      ]
     },
     "execution_count": 13,
     "metadata": {},
     "output_type": "execute_result"
    }
   ],
   "source": [
    "same = (best_league.transpose() @ best_league + np.ones((20,20),int)*13)//2\n",
    "np.min(same), np.max(same - my_diag)"
   ]
  },
  {
   "cell_type": "code",
   "execution_count": 14,
   "metadata": {},
   "outputs": [
    {
     "name": "stdout",
     "output_type": "stream",
     "text": [
      "[[ 0  7  6  8  5  7  6  5  8  5  6  5  6  7  6  9  6  6  5  4]\n",
      " [ 7  0  4  8  7  7  8  5  6  7  6  7  4  5  6  7  8  4  5  6]\n",
      " [ 6  4  0  3  4  6  5  6  7  8  9 10  5  6  7  6  5  7  6  7]\n",
      " [ 8  8  3  0  8  6  5  4  7  6  3  6  5  8  5  8  5  7  8  7]\n",
      " [ 5  7  4  8  0  5  8  5  8  5  6  5  8  7  8  3  6  4  7  8]\n",
      " [ 7  7  6  6  5  0  6  5  4  7  6  7  4  5  8  7  8  6  7  6]\n",
      " [ 6  8  5  5  8  6  0  8  7  4  7  4  7  6  7  6  9  3  6  5]\n",
      " [ 5  5  6  4  5  5  8  0  8  7  8  5  8  7  4  7  6  8  5  6]\n",
      " [ 8  6  7  7  8  4  7  8  0  6  7  6  5  8  5  6  5  5  6  3]\n",
      " [ 5  7  8  6  5  7  4  7  6  0  6  9  6  5  4  9  4  6  7  6]\n",
      " [ 6  6  9  3  6  6  7  8  7  6  0  6  7  6  7  4  7  5  4  7]\n",
      " [ 5  7 10  6  5  7  4  5  6  9  6  0  4  7  4  5  6  8  5  8]\n",
      " [ 6  4  5  5  8  4  7  8  5  6  7  4  0  8  7  6  7  7  6  7]\n",
      " [ 7  5  6  8  7  5  6  7  8  5  6  7  8  0  6  7  4  6  3  6]\n",
      " [ 6  6  7  5  8  8  7  4  5  4  7  4  7  6  0  6  7  5  8  7]\n",
      " [ 9  7  6  8  3  7  6  7  6  9  4  5  6  7  6  0  4  6  7  4]\n",
      " [ 6  8  5  5  6  8  9  6  5  4  7  6  7  4  7  4  0  7  8  5]\n",
      " [ 6  4  7  7  4  6  3  8  5  6  5  8  7  6  5  6  7  0  8  9]\n",
      " [ 5  5  6  8  7  7  6  5  6  7  4  5  6  3  8  7  8  8  0  6]\n",
      " [ 4  6  7  7  8  6  5  6  3  6  7  8  7  6  7  4  5  9  6  0]]\n"
     ]
    }
   ],
   "source": [
    "print(same - my_diag)"
   ]
  },
  {
   "cell_type": "markdown",
   "metadata": {},
   "source": [
    "Here we see the distribution of same-team assignments between pairs of players. It should be concentrated on 6 and 7."
   ]
  },
  {
   "cell_type": "code",
   "execution_count": 15,
   "metadata": {},
   "outputs": [
    {
     "data": {
      "image/png": "[encoded data removed]",
      "text/plain": [
       "<Figure size 432x288 with 1 Axes>"
      ]
     },
     "metadata": {
      "needs_background": "light"
     },
     "output_type": "display_data"
    }
   ],
   "source": [
    "plt.hist(same.flatten(),bins=np.linspace(1.5,11.5,11));"
   ]
  },
  {
   "cell_type": "markdown",
   "metadata": {},
   "source": [
    "### Output\n",
    "We put the data into a DataFrame, transform it to text, and print to CSV file."
   ]
  },
  {
   "cell_type": "code",
   "execution_count": 16,
   "metadata": {},
   "outputs": [],
   "source": [
    "players = [f'Player_{j:02d}' for j in range(1,21)]\n",
    "weeks = [f'Week_{j:02d}' for j in range(1,14)]\n",
    "df_league_num = pd.DataFrame(best_league,columns=players,index=weeks)"
   ]
  },
  {
   "cell_type": "code",
   "execution_count": 17,
   "metadata": {},
   "outputs": [],
   "source": [
    "df_league = pd.concat([df_league_num[col].apply(lambda x: 'Home' if x == 1 else 'Away') for col in df_league_num.columns],axis=1)"
   ]
  },
  {
   "cell_type": "code",
   "execution_count": 18,
   "metadata": {},
   "outputs": [
    {
     "data": {
      "text/html": [
       "<div>\n",
       "<style scoped>\n",
       "    .dataframe tbody tr th:only-of-type {\n",
       "        vertical-align: middle;\n",
       "    }\n",
       "\n",
       "    .dataframe tbody tr th {\n",
       "        vertical-align: top;\n",
       "    }\n",
       "\n",
       "    .dataframe thead th {\n",
       "        text-align: right;\n",
       "    }\n",
       "</style>\n",
       "<table border=\"1\" class=\"dataframe\">\n",
       "  <thead>\n",
       "    <tr style=\"text-align: right;\">\n",
       "      <th></th>\n",
       "      <th>Player_01</th>\n",
       "      <th>Player_02</th>\n",
       "      <th>Player_03</th>\n",
       "      <th>Player_04</th>\n",
       "      <th>Player_05</th>\n",
       "      <th>Player_06</th>\n",
       "      <th>Player_07</th>\n",
       "      <th>Player_08</th>\n",
       "      <th>Player_09</th>\n",
       "      <th>Player_10</th>\n",
       "      <th>Player_11</th>\n",
       "      <th>Player_12</th>\n",
       "      <th>Player_13</th>\n",
       "      <th>Player_14</th>\n",
       "      <th>Player_15</th>\n",
       "      <th>Player_16</th>\n",
       "      <th>Player_17</th>\n",
       "      <th>Player_18</th>\n",
       "      <th>Player_19</th>\n",
       "      <th>Player_20</th>\n",
       "    </tr>\n",
       "  </thead>\n",
       "  <tbody>\n",
       "    <tr>\n",
       "      <td>Week_01</td>\n",
       "      <td>Home</td>\n",
       "      <td>Away</td>\n",
       "      <td>Home</td>\n",
       "      <td>Away</td>\n",
       "      <td>Home</td>\n",
       "      <td>Away</td>\n",
       "      <td>Home</td>\n",
       "      <td>Away</td>\n",
       "      <td>Home</td>\n",
       "      <td>Away</td>\n",
       "      <td>Home</td>\n",
       "      <td>Away</td>\n",
       "      <td>Home</td>\n",
       "      <td>Away</td>\n",
       "      <td>Home</td>\n",
       "      <td>Away</td>\n",
       "      <td>Home</td>\n",
       "      <td>Away</td>\n",
       "      <td>Home</td>\n",
       "      <td>Away</td>\n",
       "    </tr>\n",
       "    <tr>\n",
       "      <td>Week_02</td>\n",
       "      <td>Away</td>\n",
       "      <td>Home</td>\n",
       "      <td>Home</td>\n",
       "      <td>Away</td>\n",
       "      <td>Home</td>\n",
       "      <td>Away</td>\n",
       "      <td>Home</td>\n",
       "      <td>Home</td>\n",
       "      <td>Home</td>\n",
       "      <td>Home</td>\n",
       "      <td>Home</td>\n",
       "      <td>Home</td>\n",
       "      <td>Away</td>\n",
       "      <td>Away</td>\n",
       "      <td>Away</td>\n",
       "      <td>Away</td>\n",
       "      <td>Away</td>\n",
       "      <td>Away</td>\n",
       "      <td>Away</td>\n",
       "      <td>Home</td>\n",
       "    </tr>\n",
       "    <tr>\n",
       "      <td>Week_03</td>\n",
       "      <td>Home</td>\n",
       "      <td>Away</td>\n",
       "      <td>Home</td>\n",
       "      <td>Home</td>\n",
       "      <td>Away</td>\n",
       "      <td>Home</td>\n",
       "      <td>Away</td>\n",
       "      <td>Away</td>\n",
       "      <td>Away</td>\n",
       "      <td>Home</td>\n",
       "      <td>Away</td>\n",
       "      <td>Home</td>\n",
       "      <td>Away</td>\n",
       "      <td>Away</td>\n",
       "      <td>Away</td>\n",
       "      <td>Home</td>\n",
       "      <td>Away</td>\n",
       "      <td>Home</td>\n",
       "      <td>Home</td>\n",
       "      <td>Home</td>\n",
       "    </tr>\n",
       "    <tr>\n",
       "      <td>Week_04</td>\n",
       "      <td>Home</td>\n",
       "      <td>Away</td>\n",
       "      <td>Home</td>\n",
       "      <td>Away</td>\n",
       "      <td>Away</td>\n",
       "      <td>Home</td>\n",
       "      <td>Home</td>\n",
       "      <td>Home</td>\n",
       "      <td>Home</td>\n",
       "      <td>Away</td>\n",
       "      <td>Home</td>\n",
       "      <td>Away</td>\n",
       "      <td>Away</td>\n",
       "      <td>Home</td>\n",
       "      <td>Home</td>\n",
       "      <td>Home</td>\n",
       "      <td>Away</td>\n",
       "      <td>Away</td>\n",
       "      <td>Away</td>\n",
       "      <td>Away</td>\n",
       "    </tr>\n",
       "    <tr>\n",
       "      <td>Week_05</td>\n",
       "      <td>Home</td>\n",
       "      <td>Home</td>\n",
       "      <td>Home</td>\n",
       "      <td>Home</td>\n",
       "      <td>Away</td>\n",
       "      <td>Away</td>\n",
       "      <td>Away</td>\n",
       "      <td>Away</td>\n",
       "      <td>Home</td>\n",
       "      <td>Home</td>\n",
       "      <td>Home</td>\n",
       "      <td>Home</td>\n",
       "      <td>Away</td>\n",
       "      <td>Home</td>\n",
       "      <td>Away</td>\n",
       "      <td>Home</td>\n",
       "      <td>Away</td>\n",
       "      <td>Away</td>\n",
       "      <td>Away</td>\n",
       "      <td>Away</td>\n",
       "    </tr>\n",
       "    <tr>\n",
       "      <td>Week_06</td>\n",
       "      <td>Away</td>\n",
       "      <td>Away</td>\n",
       "      <td>Home</td>\n",
       "      <td>Away</td>\n",
       "      <td>Away</td>\n",
       "      <td>Away</td>\n",
       "      <td>Away</td>\n",
       "      <td>Home</td>\n",
       "      <td>Away</td>\n",
       "      <td>Home</td>\n",
       "      <td>Home</td>\n",
       "      <td>Away</td>\n",
       "      <td>Home</td>\n",
       "      <td>Away</td>\n",
       "      <td>Home</td>\n",
       "      <td>Home</td>\n",
       "      <td>Away</td>\n",
       "      <td>Home</td>\n",
       "      <td>Home</td>\n",
       "      <td>Home</td>\n",
       "    </tr>\n",
       "    <tr>\n",
       "      <td>Week_07</td>\n",
       "      <td>Home</td>\n",
       "      <td>Home</td>\n",
       "      <td>Home</td>\n",
       "      <td>Away</td>\n",
       "      <td>Away</td>\n",
       "      <td>Home</td>\n",
       "      <td>Away</td>\n",
       "      <td>Away</td>\n",
       "      <td>Away</td>\n",
       "      <td>Away</td>\n",
       "      <td>Home</td>\n",
       "      <td>Home</td>\n",
       "      <td>Away</td>\n",
       "      <td>Away</td>\n",
       "      <td>Home</td>\n",
       "      <td>Away</td>\n",
       "      <td>Home</td>\n",
       "      <td>Home</td>\n",
       "      <td>Away</td>\n",
       "      <td>Home</td>\n",
       "    </tr>\n",
       "    <tr>\n",
       "      <td>Week_08</td>\n",
       "      <td>Home</td>\n",
       "      <td>Home</td>\n",
       "      <td>Away</td>\n",
       "      <td>Home</td>\n",
       "      <td>Away</td>\n",
       "      <td>Away</td>\n",
       "      <td>Home</td>\n",
       "      <td>Home</td>\n",
       "      <td>Home</td>\n",
       "      <td>Away</td>\n",
       "      <td>Away</td>\n",
       "      <td>Away</td>\n",
       "      <td>Away</td>\n",
       "      <td>Away</td>\n",
       "      <td>Away</td>\n",
       "      <td>Home</td>\n",
       "      <td>Home</td>\n",
       "      <td>Home</td>\n",
       "      <td>Home</td>\n",
       "      <td>Away</td>\n",
       "    </tr>\n",
       "    <tr>\n",
       "      <td>Week_09</td>\n",
       "      <td>Home</td>\n",
       "      <td>Away</td>\n",
       "      <td>Away</td>\n",
       "      <td>Home</td>\n",
       "      <td>Home</td>\n",
       "      <td>Away</td>\n",
       "      <td>Away</td>\n",
       "      <td>Home</td>\n",
       "      <td>Home</td>\n",
       "      <td>Away</td>\n",
       "      <td>Home</td>\n",
       "      <td>Away</td>\n",
       "      <td>Home</td>\n",
       "      <td>Home</td>\n",
       "      <td>Away</td>\n",
       "      <td>Away</td>\n",
       "      <td>Away</td>\n",
       "      <td>Home</td>\n",
       "      <td>Away</td>\n",
       "      <td>Home</td>\n",
       "    </tr>\n",
       "    <tr>\n",
       "      <td>Week_10</td>\n",
       "      <td>Home</td>\n",
       "      <td>Home</td>\n",
       "      <td>Away</td>\n",
       "      <td>Home</td>\n",
       "      <td>Home</td>\n",
       "      <td>Away</td>\n",
       "      <td>Home</td>\n",
       "      <td>Away</td>\n",
       "      <td>Away</td>\n",
       "      <td>Away</td>\n",
       "      <td>Away</td>\n",
       "      <td>Away</td>\n",
       "      <td>Home</td>\n",
       "      <td>Home</td>\n",
       "      <td>Home</td>\n",
       "      <td>Home</td>\n",
       "      <td>Away</td>\n",
       "      <td>Away</td>\n",
       "      <td>Away</td>\n",
       "      <td>Home</td>\n",
       "    </tr>\n",
       "    <tr>\n",
       "      <td>Week_11</td>\n",
       "      <td>Away</td>\n",
       "      <td>Away</td>\n",
       "      <td>Home</td>\n",
       "      <td>Home</td>\n",
       "      <td>Home</td>\n",
       "      <td>Away</td>\n",
       "      <td>Away</td>\n",
       "      <td>Away</td>\n",
       "      <td>Home</td>\n",
       "      <td>Away</td>\n",
       "      <td>Away</td>\n",
       "      <td>Home</td>\n",
       "      <td>Away</td>\n",
       "      <td>Home</td>\n",
       "      <td>Home</td>\n",
       "      <td>Away</td>\n",
       "      <td>Away</td>\n",
       "      <td>Home</td>\n",
       "      <td>Home</td>\n",
       "      <td>Home</td>\n",
       "    </tr>\n",
       "    <tr>\n",
       "      <td>Week_12</td>\n",
       "      <td>Away</td>\n",
       "      <td>Home</td>\n",
       "      <td>Away</td>\n",
       "      <td>Home</td>\n",
       "      <td>Home</td>\n",
       "      <td>Home</td>\n",
       "      <td>Home</td>\n",
       "      <td>Away</td>\n",
       "      <td>Away</td>\n",
       "      <td>Away</td>\n",
       "      <td>Home</td>\n",
       "      <td>Away</td>\n",
       "      <td>Away</td>\n",
       "      <td>Away</td>\n",
       "      <td>Home</td>\n",
       "      <td>Away</td>\n",
       "      <td>Home</td>\n",
       "      <td>Away</td>\n",
       "      <td>Home</td>\n",
       "      <td>Home</td>\n",
       "    </tr>\n",
       "    <tr>\n",
       "      <td>Week_13</td>\n",
       "      <td>Away</td>\n",
       "      <td>Away</td>\n",
       "      <td>Home</td>\n",
       "      <td>Away</td>\n",
       "      <td>Away</td>\n",
       "      <td>Away</td>\n",
       "      <td>Home</td>\n",
       "      <td>Home</td>\n",
       "      <td>Away</td>\n",
       "      <td>Away</td>\n",
       "      <td>Home</td>\n",
       "      <td>Home</td>\n",
       "      <td>Home</td>\n",
       "      <td>Home</td>\n",
       "      <td>Away</td>\n",
       "      <td>Away</td>\n",
       "      <td>Home</td>\n",
       "      <td>Home</td>\n",
       "      <td>Away</td>\n",
       "      <td>Home</td>\n",
       "    </tr>\n",
       "  </tbody>\n",
       "</table>\n",
       "</div>"
      ],
      "text/plain": [
       "        Player_01 Player_02 Player_03 Player_04 Player_05 Player_06 Player_07  \\\n",
       "Week_01      Home      Away      Home      Away      Home      Away      Home   \n",
       "Week_02      Away      Home      Home      Away      Home      Away      Home   \n",
       "Week_03      Home      Away      Home      Home      Away      Home      Away   \n",
       "Week_04      Home      Away      Home      Away      Away      Home      Home   \n",
       "Week_05      Home      Home      Home      Home      Away      Away      Away   \n",
       "Week_06      Away      Away      Home      Away      Away      Away      Away   \n",
       "Week_07      Home      Home      Home      Away      Away      Home      Away   \n",
       "Week_08      Home      Home      Away      Home      Away      Away      Home   \n",
       "Week_09      Home      Away      Away      Home      Home      Away      Away   \n",
       "Week_10      Home      Home      Away      Home      Home      Away      Home   \n",
       "Week_11      Away      Away      Home      Home      Home      Away      Away   \n",
       "Week_12      Away      Home      Away      Home      Home      Home      Home   \n",
       "Week_13      Away      Away      Home      Away      Away      Away      Home   \n",
       "\n",
       "        Player_08 Player_09 Player_10 Player_11 Player_12 Player_13 Player_14  \\\n",
       "Week_01      Away      Home      Away      Home      Away      Home      Away   \n",
       "Week_02      Home      Home      Home      Home      Home      Away      Away   \n",
       "Week_03      Away      Away      Home      Away      Home      Away      Away   \n",
       "Week_04      Home      Home      Away      Home      Away      Away      Home   \n",
       "Week_05      Away      Home      Home      Home      Home      Away      Home   \n",
       "Week_06      Home      Away      Home      Home      Away      Home      Away   \n",
       "Week_07      Away      Away      Away      Home      Home      Away      Away   \n",
       "Week_08      Home      Home      Away      Away      Away      Away      Away   \n",
       "Week_09      Home      Home      Away      Home      Away      Home      Home   \n",
       "Week_10      Away      Away      Away      Away      Away      Home      Home   \n",
       "Week_11      Away      Home      Away      Away      Home      Away      Home   \n",
       "Week_12      Away      Away      Away      Home      Away      Away      Away   \n",
       "Week_13      Home      Away      Away      Home      Home      Home      Home   \n",
       "\n",
       "        Player_15 Player_16 Player_17 Player_18 Player_19 Player_20  \n",
       "Week_01      Home      Away      Home      Away      Home      Away  \n",
       "Week_02      Away      Away      Away      Away      Away      Home  \n",
       "Week_03      Away      Home      Away      Home      Home      Home  \n",
       "Week_04      Home      Home      Away      Away      Away      Away  \n",
       "Week_05      Away      Home      Away      Away      Away      Away  \n",
       "Week_06      Home      Home      Away      Home      Home      Home  \n",
       "Week_07      Home      Away      Home      Home      Away      Home  \n",
       "Week_08      Away      Home      Home      Home      Home      Away  \n",
       "Week_09      Away      Away      Away      Home      Away      Home  \n",
       "Week_10      Home      Home      Away      Away      Away      Home  \n",
       "Week_11      Home      Away      Away      Home      Home      Home  \n",
       "Week_12      Home      Away      Home      Away      Home      Home  \n",
       "Week_13      Away      Away      Home      Home      Away      Home  "
      ]
     },
     "execution_count": 18,
     "metadata": {},
     "output_type": "execute_result"
    }
   ],
   "source": [
    "df_league"
   ]
  },
  {
   "cell_type": "code",
   "execution_count": 19,
   "metadata": {},
   "outputs": [],
   "source": [
    "# df_league.to_excel('Summer_League.xlsx')"
   ]
  },
  {
   "cell_type": "code",
   "execution_count": null,
   "metadata": {},
   "outputs": [],
   "source": []
  }
 ],
 "metadata": {
  "kernelspec": {
   "display_name": "Python 3",
   "language": "python",
   "name": "python3"
  },
  "language_info": {
   "codemirror_mode": {
    "name": "ipython",
    "version": 3
   },
   "file_extension": ".py",
   "mimetype": "text/x-python",
   "name": "python",
   "nbconvert_exporter": "python",
   "pygments_lexer": "ipython3",
   "version": "3.7.4"
  }
 },
 "nbformat": 4,
 "nbformat_minor": 2
}
